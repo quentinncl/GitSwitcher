{
  "nbformat": 4,
  "nbformat_minor": 0,
  "metadata": {
    "colab": {
      "name": "notebook.ipynb",
      "version": "0.3.2",
      "provenance": [],
      "include_colab_link": true
    },
    "kernelspec": {
      "name": "python3",
      "display_name": "Python 3"
    }
  },
  "cells": [
    {
      "cell_type": "markdown",
      "metadata": {
        "id": "view-in-github",
        "colab_type": "text"
      },
      "source": [
        "<a href=\"https://colab.research.google.com/github/quentinncl/GitSwitcher/blob/master/notebook.ipynb\" target=\"_parent\"><img src=\"https://colab.research.google.com/assets/colab-badge.svg\" alt=\"Open In Colab\"/></a>"
      ]
    },
    {
      "cell_type": "markdown",
      "metadata": {
        "id": "iM_SKQwO4TyG",
        "colab_type": "text"
      },
      "source": [
        "#Hello"
      ]
    },
    {
      "cell_type": "markdown",
      "metadata": {
        "id": "vh5yKPh-4hwc",
        "colab_type": "text"
      },
      "source": [
        ""
      ]
    }
  ]
}